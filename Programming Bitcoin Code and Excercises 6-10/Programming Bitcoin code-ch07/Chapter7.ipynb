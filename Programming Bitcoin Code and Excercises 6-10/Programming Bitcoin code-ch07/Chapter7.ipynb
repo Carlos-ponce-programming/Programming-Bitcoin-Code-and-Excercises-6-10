{
 "cells": [
  {
   "cell_type": "code",
   "execution_count": 44,
   "metadata": {},
   "outputs": [],
   "source": [
    "############## PLEASE RUN THIS CELL FIRST! ###################\n",
    "\n",
    "# import everything and define a test runner function\n",
    "from importlib import reload\n",
    "from helper import run\n",
    "import ecc\n",
    "import helper\n",
    "import tx\n",
    "import script"
   ]
  },
  {
   "cell_type": "code",
   "execution_count": 2,
   "metadata": {},
   "outputs": [
    {
     "name": "stdout",
     "output_type": "stream",
     "text": [
      "True\n"
     ]
    }
   ],
   "source": [
    "from tx import Tx\n",
    "from io import BytesIO\n",
    "raw_tx = ('0100000001813f79011acb80925dfe69b3def355fe914bd1d96a3f5f71bf8303c6a989c7d1000000006b483045022100ed81ff192e75a3fd2304004dcadb746fa5e24c5031ccfcf21320b0277457c98f02207a986d955c6e0cb35d446a89d3f56100f4d7f67801c31967743a9c8e10615bed01210349fc4e631e3624a545de3f89f5d8684c7b8138bd94bdd531d2e213bf016b278afeffffff02a135ef01000000001976a914bc3b654dca7e56b04dca18f2566cdaf02e8d9ada88ac99c39800000000001976a9141c4bc762dd5423e332166702cb75f40df79fea1288ac19430600')\n",
    "stream = BytesIO(bytes.fromhex(raw_tx))\n",
    "transaction = Tx.parse(stream)\n",
    "print(transaction.fee() >= 0)"
   ]
  },
  {
   "cell_type": "code",
   "execution_count": 3,
   "metadata": {},
   "outputs": [
    {
     "name": "stdout",
     "output_type": "stream",
     "text": [
      "True\n"
     ]
    }
   ],
   "source": [
    "from ecc import S256Point, Signature\n",
    "sec = bytes.fromhex('0349fc4e631e3624a545de3f89f5d8684c7b8138bd94bdd531d2e213bf016b278a')\n",
    "der = bytes.fromhex('3045022100ed81ff192e75a3fd2304004dcadb746fa5e24c5031ccfcf21320b0277457c98f02207a986d955c6e0cb35d446a89d3f56100f4d7f67801c31967743a9c8e10615bed')\n",
    "z = 0x27e0c5994dec7824e56dec6b2fcb342eb7cdb0d0957c2fce9882f715e85d81a6\n",
    "point = S256Point.parse(sec)\n",
    "signature = Signature.parse(der)\n",
    "print(point.verify(z, signature))"
   ]
  },
  {
   "cell_type": "code",
   "execution_count": 4,
   "metadata": {},
   "outputs": [
    {
     "name": "stdout",
     "output_type": "stream",
     "text": [
      "0x27e0c5994dec7824e56dec6b2fcb342eb7cdb0d0957c2fce9882f715e85d81a6\n"
     ]
    }
   ],
   "source": [
    "from helper import hash256\n",
    "modified_tx = bytes.fromhex('0100000001813f79011acb80925dfe69b3def355fe914bd1d96a3f5f71bf8303c6a989c7d1000000001976a914a802fc56c704ce87c42d7c92eb75e7896bdc41ae88acfeffffff02a135ef01000000001976a914bc3b654dca7e56b04dca18f2566cdaf02e8d9ada88ac99c39800000000001976a9141c4bc762dd5423e332166702cb75f40df79fea1288ac1943060001000000')\n",
    "h256 = hash256(modified_tx)\n",
    "z = int.from_bytes(h256, 'big')\n",
    "print(hex(z))"
   ]
  },
  {
   "cell_type": "code",
   "execution_count": 5,
   "metadata": {},
   "outputs": [
    {
     "data": {
      "text/plain": [
       "True"
      ]
     },
     "execution_count": 5,
     "metadata": {},
     "output_type": "execute_result"
    }
   ],
   "source": [
    "from ecc import S256Point, Signature\n",
    "sec = bytes.fromhex('0349fc4e631e3624a545de3f89f5d8684c7b8138bd94bdd531d2e213bf016b278a')\n",
    "der = bytes.fromhex('3045022100ed81ff192e75a3fd2304004dcadb746fa5e24c5031ccfcf21320b0277457c98f02207a986d955c6e0cb35d446a89d3f56100f4d7f67801c31967743a9c8e10615bed')\n",
    "z = 0x27e0c5994dec7824e56dec6b2fcb342eb7cdb0d0957c2fce9882f715e85d81a6\n",
    "point = S256Point.parse(sec)\n",
    "signature = Signature.parse(der)\n",
    "point.verify(z, signature)"
   ]
  },
  {
   "cell_type": "markdown",
   "metadata": {},
   "source": [
    "### Exercise 1\n",
    "\n",
    "Write the `sig_hash` method for the `Tx` class.\n",
    "\n",
    "#### Make [this test](/edit/code-ch07/tx.py) pass: `tx.py:TxTest:test_sig_hash`"
   ]
  },
  {
   "cell_type": "code",
   "execution_count": 26,
   "metadata": {},
   "outputs": [
    {
     "name": "stderr",
     "output_type": "stream",
     "text": [
      ".\n",
      "----------------------------------------------------------------------\n",
      "Ran 1 test in 0.004s\n",
      "\n",
      "OK\n"
     ]
    }
   ],
   "source": [
    "# Exercise 1\n",
    "\n",
    "reload(tx)\n",
    "run(tx.TxTest(\"test_sig_hash\"))"
   ]
  },
  {
   "cell_type": "markdown",
   "metadata": {},
   "source": [
    "### Exercise 2\n",
    "\n",
    "Write the `verify_input` method for the `Tx` class. You will want to use the `TxIn.script_pubkey()`, `Tx.sig_hash()` and `Script.evaluate()` methods.\n",
    "\n",
    "#### Make [this test](/edit/code-ch07/tx.py) pass: `tx.py:TxTest:test_verify_p2pkh`"
   ]
  },
  {
   "cell_type": "code",
   "execution_count": 32,
   "metadata": {},
   "outputs": [
    {
     "name": "stderr",
     "output_type": "stream",
     "text": [
      ".\n",
      "----------------------------------------------------------------------\n",
      "Ran 1 test in 0.276s\n",
      "\n",
      "OK\n"
     ]
    }
   ],
   "source": [
    "# Exercise 2\n",
    "\n",
    "reload(tx)\n",
    "run(tx.TxTest(\"test_verify_p2pkh\"))"
   ]
  },
  {
   "cell_type": "code",
   "execution_count": 33,
   "metadata": {},
   "outputs": [
    {
     "name": "stdout",
     "output_type": "stream",
     "text": [
      "tx: cd30a8da777d28ef0e61efe68a9f7c559c1d3e5bcd7b265c850ccb4068598d11\n",
      "version: 1\n",
      "tx_ins:\n",
      "0d6fe5213c0b3291f208cba8bfb59b7476dffacc4e5cb66f6eb20a080843a299:13\n",
      "tx_outs:\n",
      "33000000:OP_DUP OP_HASH160 d52ad7ca9b3d096a38e752c2018e6fbc40cdf26f OP_EQUALVERIFY OP_CHECKSIG\n",
      "10000000:OP_DUP OP_HASH160 507b27411ccf7f16f10297de6cef3f291623eddf OP_EQUALVERIFY OP_CHECKSIG\n",
      "locktime: 0\n"
     ]
    }
   ],
   "source": [
    "from helper import decode_base58, SIGHASH_ALL\n",
    "from script import p2pkh_script, Script\n",
    "from tx import TxIn, TxOut, Tx\n",
    "prev_tx = bytes.fromhex('0d6fe5213c0b3291f208cba8bfb59b7476dffacc4e5cb66f6eb20a080843a299')\n",
    "prev_index = 13\n",
    "tx_in = TxIn(prev_tx, prev_index)\n",
    "tx_outs = []\n",
    "change_amount = int(0.33*100000000)\n",
    "change_h160 = decode_base58('mzx5YhAH9kNHtcN481u6WkjeHjYtVeKVh2')\n",
    "change_script = p2pkh_script(change_h160)\n",
    "change_output = TxOut(amount=change_amount, script_pubkey=change_script)\n",
    "target_amount = int(0.1*100000000)\n",
    "target_h160 = decode_base58('mnrVtF8DWjMu839VW3rBfgYaAfKk8983Xf')\n",
    "target_script = p2pkh_script(target_h160)\n",
    "target_output = TxOut(amount=target_amount, script_pubkey=target_script)\n",
    "tx_obj = Tx(1, [tx_in], [change_output, target_output], 0, True)\n",
    "print(tx_obj)"
   ]
  },
  {
   "cell_type": "code",
   "execution_count": 63,
   "metadata": {},
   "outputs": [
    {
     "ename": "NotImplementedError",
     "evalue": "",
     "output_type": "error",
     "traceback": [
      "\u001b[0;31m---------------------------------------------------------------------------\u001b[0m",
      "\u001b[0;31mNotImplementedError\u001b[0m                       Traceback (most recent call last)",
      "\u001b[0;32m<ipython-input-63-0d1eecc9378a>\u001b[0m in \u001b[0;36m<module>\u001b[0;34m\u001b[0m\n\u001b[1;32m      1\u001b[0m \u001b[0;32mfrom\u001b[0m \u001b[0mecc\u001b[0m \u001b[0;32mimport\u001b[0m \u001b[0mPrivateKey\u001b[0m\u001b[0;34m\u001b[0m\u001b[0;34m\u001b[0m\u001b[0m\n\u001b[1;32m      2\u001b[0m \u001b[0;32mfrom\u001b[0m \u001b[0mhelper\u001b[0m \u001b[0;32mimport\u001b[0m \u001b[0mSIGHASH_ALL\u001b[0m\u001b[0;34m\u001b[0m\u001b[0;34m\u001b[0m\u001b[0m\n\u001b[0;32m----> 3\u001b[0;31m \u001b[0mz\u001b[0m \u001b[0;34m=\u001b[0m \u001b[0mtransaction\u001b[0m\u001b[0;34m.\u001b[0m\u001b[0msig_hash\u001b[0m\u001b[0;34m(\u001b[0m\u001b[0;36m0\u001b[0m\u001b[0;34m)\u001b[0m\u001b[0;34m\u001b[0m\u001b[0;34m\u001b[0m\u001b[0m\n\u001b[0m\u001b[1;32m      4\u001b[0m \u001b[0mprivate_key\u001b[0m \u001b[0;34m=\u001b[0m \u001b[0mPrivateKey\u001b[0m\u001b[0;34m(\u001b[0m\u001b[0msecret\u001b[0m\u001b[0;34m=\u001b[0m\u001b[0;36m8675309\u001b[0m\u001b[0;34m)\u001b[0m\u001b[0;34m\u001b[0m\u001b[0;34m\u001b[0m\u001b[0m\n\u001b[1;32m      5\u001b[0m \u001b[0mder\u001b[0m \u001b[0;34m=\u001b[0m \u001b[0mprivate_key\u001b[0m\u001b[0;34m.\u001b[0m\u001b[0msign\u001b[0m\u001b[0;34m(\u001b[0m\u001b[0mz\u001b[0m\u001b[0;34m)\u001b[0m\u001b[0;34m.\u001b[0m\u001b[0mder\u001b[0m\u001b[0;34m(\u001b[0m\u001b[0;34m)\u001b[0m\u001b[0;34m\u001b[0m\u001b[0;34m\u001b[0m\u001b[0m\n",
      "\u001b[0;32m~/programmingbitcoin/code-ch07/tx.py\u001b[0m in \u001b[0;36msig_hash\u001b[0;34m(self, input_index)\u001b[0m\n\u001b[1;32m    175\u001b[0m                 \u001b[0mb\u001b[0m \u001b[0;34m=\u001b[0m \u001b[0;36m3\u001b[0m\u001b[0;34m\u001b[0m\u001b[0;34m\u001b[0m\u001b[0m\n\u001b[1;32m    176\u001b[0m                 \u001b[0mc\u001b[0m \u001b[0;34m=\u001b[0m \u001b[0;36m4\u001b[0m\u001b[0;34m\u001b[0m\u001b[0;34m\u001b[0m\u001b[0m\n\u001b[0;32m--> 177\u001b[0;31m                 \u001b[0md\u001b[0m \u001b[0;34m=\u001b[0m \u001b[0;36m5\u001b[0m\u001b[0;34m\u001b[0m\u001b[0;34m\u001b[0m\u001b[0m\n\u001b[0m\u001b[1;32m    178\u001b[0m                 \u001b[0me\u001b[0m \u001b[0;34m=\u001b[0m \u001b[0;36m6\u001b[0m\u001b[0;34m\u001b[0m\u001b[0;34m\u001b[0m\u001b[0m\n\u001b[1;32m    179\u001b[0m                 \u001b[0mf\u001b[0m \u001b[0;34m=\u001b[0m \u001b[0;36m7\u001b[0m\u001b[0;34m\u001b[0m\u001b[0;34m\u001b[0m\u001b[0m\n",
      "\u001b[0;31mNotImplementedError\u001b[0m: "
     ]
    }
   ],
   "source": [
    "from ecc import PrivateKey\n",
    "from helper import SIGHASH_ALL\n",
    "z = transaction.sig_hash(0)\n",
    "private_key = PrivateKey(secret=8675309)\n",
    "der = private_key.sign(z).der()\n",
    "sig = der + SIGHASH_ALL.to_bytes(1, 'big')\n",
    "sec = private_key.point.sec()\n",
    "script_sig = Script([sig, sec])\n",
    "transaction.tx_ins[0].script_sig = script_sig \n",
    "print(transaction.serialize().hex())"
   ]
  },
  {
   "cell_type": "code",
   "execution_count": 64,
   "metadata": {},
   "outputs": [
    {
     "name": "stdout",
     "output_type": "stream",
     "text": [
      "mrvpJNvSasgjUQPVnBsCeqJqSyeDKHxtjE\n"
     ]
    }
   ],
   "source": [
    "from ecc import PrivateKey\n",
    "from helper import hash256, little_endian_to_int\n",
    "secret = little_endian_to_int(hash256(b'cponce7@gmail.com volkl200822366'))\n",
    "private_key = PrivateKey(secret)\n",
    "print(private_key.point.address(testnet=True))"
   ]
  },
  {
   "cell_type": "markdown",
   "metadata": {},
   "source": [
    "### Exercise 3\n",
    "\n",
    "Write the `sign_input` method for the `Tx` class.\n",
    "\n",
    "#### Make [this test](/edit/code-ch07/tx.py) pass: `tx.py:TxTest:test_sign_input`"
   ]
  },
  {
   "cell_type": "code",
   "execution_count": 52,
   "metadata": {},
   "outputs": [
    {
     "name": "stderr",
     "output_type": "stream",
     "text": [
      ".\n",
      "----------------------------------------------------------------------\n",
      "Ran 1 test in 0.223s\n",
      "\n",
      "OK\n"
     ]
    }
   ],
   "source": [
    "# Exercise 3\n",
    "\n",
    "reload(tx)\n",
    "run(tx.TxTest(\"test_sign_input\"))"
   ]
  },
  {
   "cell_type": "markdown",
   "metadata": {},
   "source": [
    "### Exercise 4\n",
    "\n",
    "Create a testnet transaction that sends 60% of a single UTXO to `mwJn1YPMq7y5F8J3LkC5Hxg9PHyZ5K4cFv`. The remaining amount minus fees should go back to your own change address. This should be a 1 input, 2 output transaction.\n",
    "\n",
    "You can broadcast the transaction at https://testnet.blockchain.info/pushtx"
   ]
  },
  {
   "cell_type": "code",
   "execution_count": 82,
   "metadata": {},
   "outputs": [
    {
     "name": "stdout",
     "output_type": "stream",
     "text": [
      "01000000010e3e4c22cf894e1601b4e419799f8141f3dfd6aaa2a85ddb9c2ef83a61d89e69010000006b483045022100edb9f05f5233e366a26d6b2d90a80e7ce92094858231642ea4c19e934fce165502202aedb25cbf9da0f75a396bfb01be2ca609d859155e7ff302611411beb3c3ac340121028c0088dfc507ec5e0b8af48310b0c12cd29a55a97ed916d5e4849d1b1d1ee90dffffffff0260ea0000000000001976a914ad346f8eb57dee9a37981716e498120ae80e44f788ac30750000000000001976a9147d2cb17d131aa5568867749c6cd252916ca57dee88ac00000000\n",
      "\n",
      "tx: aceb898adbd033fadc881f7d4d8d555506241bdb08942f2b7be0227a752830a1\n",
      "version: 1\n",
      "tx_ins:\n",
      "699ed8613af82e9cdb5da8a2aad6dff341819f7919e4b401164e89cf224c3e0e:1\n",
      "tx_outs:\n",
      "60000:OP_DUP OP_HASH160 ad346f8eb57dee9a37981716e498120ae80e44f7 OP_EQUALVERIFY OP_CHECKSIG\n",
      "30000:OP_DUP OP_HASH160 7d2cb17d131aa5568867749c6cd252916ca57dee OP_EQUALVERIFY OP_CHECKSIG\n",
      "locktime: 0\n"
     ]
    }
   ],
   "source": [
    "# Exercise 4\n",
    "\n",
    "from ecc import PrivateKey\n",
    "from helper import decode_base58, SIGHASH_ALL\n",
    "from script import p2pkh_script, Script\n",
    "from tx import TxIn, TxOut, Tx\n",
    "\n",
    "# create 1 TxIn and 2 TxOuts\n",
    "# 1 of the TxOuts should be back to your address\n",
    "# the other TxOut should be to this address\n",
    "target_address = 'mwJn1YPMq7y5F8J3LkC5Hxg9PHyZ5K4cFv'\n",
    "\n",
    "# get the private key from the exercise in Chapter 4\n",
    "passphrase = b'cponce7@gmail.com volkl200822366'\n",
    "secret = little_endian_to_int(hash256(passphrase))\n",
    "private_key = PrivateKey(secret)\n",
    "\n",
    "# change address should be the address generated from Chapter 4\n",
    "change_address = private_key.point.address(testnet=True)\n",
    "\n",
    "# get the prev_tx and prev_index from the transaction where you got\n",
    "# some testnet coins\n",
    "prev_tx = bytes.fromhex('699ed8613af82e9cdb5da8a2aad6dff341819f7919e4b401164e89cf224c3e0e')\n",
    "prev_index = 1\n",
    "\n",
    "# create a transaction input for the previous transaction with\n",
    "# the default ScriptSig and sequence\n",
    "tx_in = TxIn(prev_tx, prev_index)\n",
    "\n",
    "# target amount should be 60% of the output amount\n",
    "previous_transaction = tx_in.fetch_tx(testnet=True)\n",
    "utxo_amount = previous_transaction.tx_outs[prev_index].amount\n",
    "target_amount = int(utxo_amount*0.6)\n",
    "#print(target_amount)\n",
    "\n",
    "# set the fee to some reasonable amount\n",
    "fee = 10000\n",
    "\n",
    "# change amount = amount from the prev tx - target amount - fee\n",
    "change_amount = utxo_amount - target_amount - fee\n",
    "#print(change_amount)\n",
    "\n",
    "# create a transaction output for the target amount and address\n",
    "target_h160 = decode_base58(target_address)\n",
    "target_script = p2pkh_script(target_h160)\n",
    "target_output = TxOut(target_amount, target_script)\n",
    "\n",
    "# create a transaction output for the change amount and address\n",
    "change_h160 = decode_base58(change_address)\n",
    "change_script = p2pkh_script(change_h160)\n",
    "change_output = TxOut(change_amount, change_script)\n",
    "\n",
    "# create the transaction object\n",
    "tx = Tx(1, [tx_in], [target_output, change_output], 0, testnet=True)\n",
    "\n",
    "# sign the one input in the transaction object using the private key\n",
    "tx.sign_input(0, private_key)\n",
    "\n",
    "# print the transaction's serialization in hex\n",
    "print(tx.serialize().hex())\n",
    "\n",
    "# broadcast at http://testnet.blockchain.info/pushtx\n",
    "print()\n",
    "print(tx)"
   ]
  },
  {
   "cell_type": "markdown",
   "metadata": {},
   "source": [
    "### Exercise 5\n",
    "\n",
    "Advanced: get some more testnet coins from a testnet faucet and create a 2 input, 1 output transaction. 1 input should be from the faucet, the other should be from the previous exercise, the output can be your own address.\n",
    "\n",
    "You can broadcast the transaction at https://testnet.blockchain.info/pushtx"
   ]
  },
  {
   "cell_type": "code",
   "execution_count": 87,
   "metadata": {},
   "outputs": [
    {
     "name": "stdout",
     "output_type": "stream",
     "text": [
      "01000000021f9840ad7e3b89507b14154dab347dd8204623a210571019d8108781958d58f4010000006a4730440220213fd7303ba79fe75007321c3e2576c4b415822b000f092c9974f773b656545e0220079bad50ee3be0d352c58b5b5e34f3e3b90458d6866222a719ff7ce0ed2389fe0121026a55176caab9cce97b79c55a4e236a34a7ff99d0bfc90c2b4b2dd5391edab734ffffffffa13028757a22e07b2b2f9408db1b240655558d4d7d1f88dcfa33d0db8a89ebac010000006a4730440220167e267b461623c41d6c5aef8fa386c5c98eb152dd43bd2274e2caf3ba7bf56f02203108dacffc9a5ce150a1171d3d986172fc2c7c643025eb8ba4518afca782cc6b0121028c0088dfc507ec5e0b8af48310b0c12cd29a55a97ed916d5e4849d1b1d1ee90dffffffff01dcf90100000000001976a914135dd01cb563b3b70c7f760eeaccf45d03b8797188ac00000000\n",
      "\n",
      "tx: 4ecd3ba1b71724641ef834c4da86aba55e7621c968deab34c9cc21401796450c\n",
      "version: 1\n",
      "tx_ins:\n",
      "f4588d95818710d819105710a2234620d87d34ab4d15147b50893b7ead40981f:1\n",
      "aceb898adbd033fadc881f7d4d8d555506241bdb08942f2b7be0227a752830a1:1\n",
      "tx_outs:\n",
      "129500:OP_DUP OP_HASH160 135dd01cb563b3b70c7f760eeaccf45d03b87971 OP_EQUALVERIFY OP_CHECKSIG\n",
      "locktime: 0\n"
     ]
    }
   ],
   "source": [
    "# Exercise 5\n",
    "\n",
    "from ecc import PrivateKey\n",
    "from helper import decode_base58, SIGHASH_ALL\n",
    "from script import p2pkh_script, Script\n",
    "from tx import TxIn, TxOut, Tx\n",
    "\n",
    "# Create 2 TxIns, 1 from the Exercise 4 and 1 from a testnet faucet\n",
    "# Creat 1 TxOut to the address above\n",
    "target_address = 'mhHMWwEyyrW2Dw7cTbF627uLnFnqUj3EVe' #This is the target address I created, it's in chapter 4 notebook\n",
    "\n",
    "# get the private key from the exercise in Chapter 4\n",
    "passphrase = b'Input 2 cponce7@gmail.com volkl200822366'\n",
    "secret = little_endian_to_int(hash256(passphrase))\n",
    "private_key_input_faucet = PrivateKey(secret)\n",
    "\n",
    "passphrase = b'cponce7@gmail.com volkl200822366'\n",
    "secret = little_endian_to_int(hash256(passphrase))\n",
    "private_key_input_ex4 = PrivateKey(secret)\n",
    "\n",
    "# get the prev_tx and prev_index from the transaction where you got\n",
    "# some testnet coins\n",
    "prev_tx_input_faucet = bytes.fromhex('f4588d95818710d819105710a2234620d87d34ab4d15147b50893b7ead40981f')\n",
    "prev_index_input_faucet = 1\n",
    "\n",
    "# create the first transaction input with the default ScriptSig and\n",
    "# sequence\n",
    "tx_in_faucet = TxIn(prev_tx_input_faucet, prev_index_input_faucet)\n",
    "\n",
    "# get the prev_tx and prev_index from the transaction in Exercise 4\n",
    "prev_tx_input_ex4 = bytes.fromhex('aceb898adbd033fadc881f7d4d8d555506241bdb08942f2b7be0227a752830a1')\n",
    "prev_index_input_ex4 = 1\n",
    "\n",
    "# create the second transaction input with the default ScriptSig and\n",
    "# sequence\n",
    "tx_in_ex4 = TxIn(prev_tx_input_ex4, prev_index_input_ex4)\n",
    "\n",
    "# set the fee to some reasonable amount\n",
    "fee = 500\n",
    "\n",
    "# target amount should be the sum of the inputs - fee\n",
    "target_amount = tx_in_faucet.fetch_tx(testnet=True).tx_outs[prev_index_input_faucet].amount + tx_in_ex4.fetch_tx(testnet=True).tx_outs[prev_index_input_faucet].amount - fee\n",
    "\n",
    "# create a transaction output for the amount and address\n",
    "target_h160 = decode_base58(target_address)\n",
    "target_script = p2pkh_script(target_h160)\n",
    "\n",
    "tx_out = TxOut(target_amount, target_script)\n",
    "\n",
    "# creating the tx object because this wasn't included in the instructions and I'm pretty sure it's needed\n",
    "tx = Tx(1, [tx_in_faucet, tx_in_ex4], [tx_out], 0, testnet=True)\n",
    "\n",
    "# sign the first input using the private key\n",
    "tx.sign_input(0, private_key_input_faucet)\n",
    "\n",
    "# sign the second input using the private key \n",
    "tx.sign_input(1, private_key_input_ex4)\n",
    "\n",
    "# print the transaction's serialization in hex\n",
    "print(tx.serialize().hex())\n",
    "print()\n",
    "print(tx)\n",
    "\n",
    "# broadcast at http://testnet.blockchain.info/pushtx"
   ]
  }
 ],
 "metadata": {
  "kernelspec": {
   "display_name": "Python 3",
   "language": "python",
   "name": "python3"
  },
  "language_info": {
   "codemirror_mode": {
    "name": "ipython",
    "version": 3
   },
   "file_extension": ".py",
   "mimetype": "text/x-python",
   "name": "python",
   "nbconvert_exporter": "python",
   "pygments_lexer": "ipython3",
   "version": "3.8.5"
  }
 },
 "nbformat": 4,
 "nbformat_minor": 2
}
